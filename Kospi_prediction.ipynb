{
 "cells": [
  {
   "cell_type": "markdown",
   "metadata": {},
   "source": [
    "## 네이버 금융 핫뉴스 기사 제목을 통한 코스피 주가 상승, 하락 예측\n",
    "\n",
    " 현재 COVID-19(코로나)로 인한 유래없는 펜데믹 현상으로 인해 전 세계적으로 피해를 보고있으며 경제 또한 이를 피해가지 못하였다. 하지만 위기회라는 신조어가 생긴만큼 떨어진 경제지표에 많은 개인 투자자들이 주식시장에 뛰어들었다. 현재 동학개미운동이라고 불릴만큼 많은 개인투자자들이 새로운 증권 계좌 개설을 하고있으며 금융지식에 대한 뜨거운 관심이 모이고있다. 이에 네이버 금융의 핫뉴스 기사제목을 스크래핑하여 코스피 등락을 예측하는데 활용해보면 어떨까라는 생각이 들었고 전 날의 기사 제목으로 다음 날 코스피 지수 등락을 예측하는 모델을 만들어보았다."
   ]
  },
  {
   "cell_type": "markdown",
   "metadata": {},
   "source": [
    "#### 스크래핑과 데이터처리, 한글 형태소 분석에 필요한 패키지들을 불러온다."
   ]
  },
  {
   "cell_type": "code",
   "execution_count": 2,
   "metadata": {},
   "outputs": [],
   "source": [
    "from urllib.request import urlopen\n",
    "from bs4 import BeautifulSoup\n",
    "import pandas as pd"
   ]
  },
  {
   "cell_type": "code",
   "execution_count": 128,
   "metadata": {},
   "outputs": [],
   "source": [
    "#import socket, sys, json\n",
    "from konlpy.tag import Kkma\n",
    "from konlpy.utils import pprint"
   ]
  },
  {
   "cell_type": "code",
   "execution_count": 235,
   "metadata": {},
   "outputs": [],
   "source": [
    "from re import sub"
   ]
  },
  {
   "cell_type": "markdown",
   "metadata": {},
   "source": [
    "#### 네이버 금융의 핫 뉴스 제목들을 스크래핑하며 날짜 리스트를 주면 해당 날짜들의 핫뉴스 제목들을 데이터프레임으로 반환한다."
   ]
  },
  {
   "cell_type": "code",
   "execution_count": 236,
   "metadata": {},
   "outputs": [],
   "source": [
    "def get_hotnews(date_list):\n",
    "    news_dict = {}\n",
    "    for d in date_list :\n",
    "        n_list = []\n",
    "        for pn in range(1,3):\n",
    "            url = 'https://finance.naver.com/news/news_list.nhn?mode=RANK&date={}&page={}'.format(d, pn)\n",
    "            web = urlopen(url)\n",
    "            source = BeautifulSoup(web,'html.parser',from_encoding='utf-8')\n",
    "            news_list = source.findAll('li' , {'class':'block1 clearfix'})\n",
    "\n",
    "            for news in news_list :\n",
    "                n = news.findAll('a')\n",
    "                for i in n :\n",
    "                    title = i.get_text().strip() # 특수문자, 공백 제외 후 의미있는 형태소만 추출\n",
    "                    title = sub(pattern=r\"\\d\", repl=r\"\", string=title) # 숫자를 제외\n",
    "                    title = [i for i in kkma.nouns(title) if len(i) > 1] # 한글자 이상의 단어만 사용\n",
    "                    n_list.append(title)\n",
    "\n",
    "            news_dict[d] = n_list\n",
    "    news_df = pd.DataFrame(news_dict)\n",
    "    return news_df"
   ]
  },
  {
   "cell_type": "markdown",
   "metadata": {},
   "source": [
    "#### 2019년 5월 2일부터 2020년 4월 29일까지 휴일, 폐장일을 제외한 데이터를 스크래핑한다. "
   ]
  },
  {
   "cell_type": "code",
   "execution_count": 237,
   "metadata": {},
   "outputs": [],
   "source": [
    "dt_index = pd.date_range(start='20190502', end='20200429',freq='B')\n",
    "dt_list = dt_index.strftime(\"%Y%m%d\").tolist()"
   ]
  },
  {
   "cell_type": "markdown",
   "metadata": {},
   "source": [
    "#### 휴일, 폐장일을 지정해 목록에서 제외한다."
   ]
  },
  {
   "cell_type": "code",
   "execution_count": 238,
   "metadata": {},
   "outputs": [],
   "source": [
    "holiday_list = ['20190506','20190606','20190815','20190912','20190913','20191003','20191009','20191225','20200101','20200124','20200127','20200415','20191231']\n",
    "for i in holiday_list :\n",
    "    dt_list.remove(i)"
   ]
  },
  {
   "cell_type": "code",
   "execution_count": 239,
   "metadata": {},
   "outputs": [],
   "source": [
    "df = get_hotnews(dt_list)"
   ]
  },
  {
   "cell_type": "markdown",
   "metadata": {},
   "source": [
    "#### 자료출처 : 인베스팅닷컴(https://kr.investing.com/indices/kospi-historical-data)"
   ]
  },
  {
   "cell_type": "code",
   "execution_count": 294,
   "metadata": {},
   "outputs": [],
   "source": [
    "target = pd.read_csv('kospi.csv')"
   ]
  },
  {
   "cell_type": "markdown",
   "metadata": {},
   "source": [
    "#### 지수가 떨어진날은 0, 오른날은 1로 타겟을 설정한다."
   ]
  },
  {
   "cell_type": "code",
   "execution_count": 295,
   "metadata": {},
   "outputs": [],
   "source": [
    "target_list = [1 if i > 0 else 0 for i in target.values] # up = 1 & down = 0"
   ]
  },
  {
   "cell_type": "markdown",
   "metadata": {},
   "source": [
    "#### 스크래핑이 끝난 후 하루에 100단어씩 모두 저장한다."
   ]
  },
  {
   "cell_type": "code",
   "execution_count": 296,
   "metadata": {},
   "outputs": [],
   "source": [
    "tmp_dict = {date : list(set([word for word_list in df[date] for word in word_list]))[:100] for date in df.columns}"
   ]
  },
  {
   "cell_type": "code",
   "execution_count": 331,
   "metadata": {},
   "outputs": [],
   "source": [
    "kospi_df = pd.DataFrame(tmp_dict)"
   ]
  },
  {
   "cell_type": "markdown",
   "metadata": {},
   "source": [
    "#### 더미화(One-hot encoding)를 위해 단어 목록을 정리한다."
   ]
  },
  {
   "cell_type": "code",
   "execution_count": 334,
   "metadata": {},
   "outputs": [],
   "source": [
    "col_names = [col[9:] for col in pd.get_dummies(kospi_df).columns]"
   ]
  },
  {
   "cell_type": "code",
   "execution_count": 337,
   "metadata": {},
   "outputs": [],
   "source": [
    "kospi_df = kospi_df.T"
   ]
  },
  {
   "cell_type": "code",
   "execution_count": 338,
   "metadata": {},
   "outputs": [],
   "source": [
    "kospi_df.to_csv('kospi_df.csv')"
   ]
  },
  {
   "cell_type": "code",
   "execution_count": 339,
   "metadata": {},
   "outputs": [
    {
     "data": {
      "text/plain": [
       "(247, 100)"
      ]
     },
     "execution_count": 339,
     "metadata": {},
     "output_type": "execute_result"
    }
   ],
   "source": [
    "kospi_df.shape"
   ]
  },
  {
   "cell_type": "code",
   "execution_count": 340,
   "metadata": {
    "scrolled": true
   },
   "outputs": [
    {
     "data": {
      "text/html": [
       "<div>\n",
       "<style scoped>\n",
       "    .dataframe tbody tr th:only-of-type {\n",
       "        vertical-align: middle;\n",
       "    }\n",
       "\n",
       "    .dataframe tbody tr th {\n",
       "        vertical-align: top;\n",
       "    }\n",
       "\n",
       "    .dataframe thead th {\n",
       "        text-align: right;\n",
       "    }\n",
       "</style>\n",
       "<table border=\"1\" class=\"dataframe\">\n",
       "  <thead>\n",
       "    <tr style=\"text-align: right;\">\n",
       "      <th></th>\n",
       "      <th>0</th>\n",
       "      <th>1</th>\n",
       "      <th>2</th>\n",
       "      <th>3</th>\n",
       "      <th>4</th>\n",
       "      <th>5</th>\n",
       "      <th>6</th>\n",
       "      <th>7</th>\n",
       "      <th>8</th>\n",
       "      <th>9</th>\n",
       "      <th>...</th>\n",
       "      <th>90</th>\n",
       "      <th>91</th>\n",
       "      <th>92</th>\n",
       "      <th>93</th>\n",
       "      <th>94</th>\n",
       "      <th>95</th>\n",
       "      <th>96</th>\n",
       "      <th>97</th>\n",
       "      <th>98</th>\n",
       "      <th>99</th>\n",
       "    </tr>\n",
       "  </thead>\n",
       "  <tbody>\n",
       "    <tr>\n",
       "      <th>20190502</th>\n",
       "      <td>회사</td>\n",
       "      <td>동결</td>\n",
       "      <td>일가</td>\n",
       "      <td>진출</td>\n",
       "      <td>케이엠제약</td>\n",
       "      <td>총수</td>\n",
       "      <td>이스트</td>\n",
       "      <td>특징</td>\n",
       "      <td>환율</td>\n",
       "      <td>아이에스커머스</td>\n",
       "      <td>...</td>\n",
       "      <td>이주</td>\n",
       "      <td>일대</td>\n",
       "      <td>솔루션즈</td>\n",
       "      <td>증권사</td>\n",
       "      <td>신입</td>\n",
       "      <td>빌리티</td>\n",
       "      <td>한세</td>\n",
       "      <td>한세예스문화재단</td>\n",
       "      <td>뉴욕</td>\n",
       "      <td>마감</td>\n",
       "    </tr>\n",
       "    <tr>\n",
       "      <th>20190503</th>\n",
       "      <td>나스닥</td>\n",
       "      <td>디아이</td>\n",
       "      <td>증자</td>\n",
       "      <td>도시</td>\n",
       "      <td>진출</td>\n",
       "      <td>이벤트</td>\n",
       "      <td>첫날</td>\n",
       "      <td>성수기</td>\n",
       "      <td>반려</td>\n",
       "      <td>요금인하</td>\n",
       "      <td>...</td>\n",
       "      <td>지주</td>\n",
       "      <td>라인</td>\n",
       "      <td>대표번호</td>\n",
       "      <td>공헌</td>\n",
       "      <td>심리</td>\n",
       "      <td>활동</td>\n",
       "      <td>개발</td>\n",
       "      <td>호실적</td>\n",
       "      <td>투자</td>\n",
       "      <td>동물</td>\n",
       "    </tr>\n",
       "    <tr>\n",
       "      <th>20190507</th>\n",
       "      <td>선생님</td>\n",
       "      <td>회사</td>\n",
       "      <td>다우</td>\n",
       "      <td>유가</td>\n",
       "      <td>중공업</td>\n",
       "      <td>이벤트</td>\n",
       "      <td>첫날</td>\n",
       "      <td>엑스포</td>\n",
       "      <td>반려</td>\n",
       "      <td>롯데케미칼</td>\n",
       "      <td>...</td>\n",
       "      <td>마감</td>\n",
       "      <td>텔레콤</td>\n",
       "      <td>외환</td>\n",
       "      <td>트럼프</td>\n",
       "      <td>개시</td>\n",
       "      <td>감소세</td>\n",
       "      <td>채용</td>\n",
       "      <td>나흘간</td>\n",
       "      <td>롯데마트</td>\n",
       "      <td>공모전</td>\n",
       "    </tr>\n",
       "    <tr>\n",
       "      <th>20190508</th>\n",
       "      <td>회사</td>\n",
       "      <td>주가약세</td>\n",
       "      <td>유가</td>\n",
       "      <td>설문조사</td>\n",
       "      <td>친화</td>\n",
       "      <td>조사</td>\n",
       "      <td>무역전쟁</td>\n",
       "      <td>d</td>\n",
       "      <td>신한금투</td>\n",
       "      <td>위지윅스튜디오</td>\n",
       "      <td>...</td>\n",
       "      <td>미어</td>\n",
       "      <td>요인</td>\n",
       "      <td>점화</td>\n",
       "      <td>뉴욕</td>\n",
       "      <td>하방리스크</td>\n",
       "      <td>마감</td>\n",
       "      <td>마켓</td>\n",
       "      <td>이상</td>\n",
       "      <td>이글루</td>\n",
       "      <td>외환</td>\n",
       "    </tr>\n",
       "    <tr>\n",
       "      <th>20190509</th>\n",
       "      <td>우선주</td>\n",
       "      <td>증자</td>\n",
       "      <td>금융당국</td>\n",
       "      <td>급락</td>\n",
       "      <td>청소년</td>\n",
       "      <td>관련주</td>\n",
       "      <td>재평가</td>\n",
       "      <td>특징</td>\n",
       "      <td>내화</td>\n",
       "      <td>해답</td>\n",
       "      <td>...</td>\n",
       "      <td>오산공장</td>\n",
       "      <td>수도권</td>\n",
       "      <td>이미지센서</td>\n",
       "      <td>조선내화</td>\n",
       "      <td>딩스</td>\n",
       "      <td>시황</td>\n",
       "      <td>원자</td>\n",
       "      <td>매출</td>\n",
       "      <td>올해</td>\n",
       "      <td>코스피</td>\n",
       "    </tr>\n",
       "  </tbody>\n",
       "</table>\n",
       "<p>5 rows × 100 columns</p>\n",
       "</div>"
      ],
      "text/plain": [
       "           0     1     2     3      4    5     6    7     8        9   ...  \\\n",
       "20190502   회사    동결    일가    진출  케이엠제약   총수   이스트   특징    환율  아이에스커머스  ...   \n",
       "20190503  나스닥   디아이    증자    도시     진출  이벤트    첫날  성수기    반려     요금인하  ...   \n",
       "20190507  선생님    회사    다우    유가    중공업  이벤트    첫날  엑스포    반려    롯데케미칼  ...   \n",
       "20190508   회사  주가약세    유가  설문조사     친화   조사  무역전쟁    d  신한금투  위지윅스튜디오  ...   \n",
       "20190509  우선주    증자  금융당국    급락    청소년  관련주   재평가   특징    내화       해답  ...   \n",
       "\n",
       "            90   91     92    93     94   95  96        97    98   99  \n",
       "20190502    이주   일대   솔루션즈   증권사     신입  빌리티  한세  한세예스문화재단    뉴욕   마감  \n",
       "20190503    지주   라인   대표번호    공헌     심리   활동  개발       호실적    투자   동물  \n",
       "20190507    마감  텔레콤     외환   트럼프     개시  감소세  채용       나흘간  롯데마트  공모전  \n",
       "20190508    미어   요인     점화    뉴욕  하방리스크   마감  마켓        이상   이글루   외환  \n",
       "20190509  오산공장  수도권  이미지센서  조선내화     딩스   시황  원자        매출    올해  코스피  \n",
       "\n",
       "[5 rows x 100 columns]"
      ]
     },
     "execution_count": 340,
     "metadata": {},
     "output_type": "execute_result"
    }
   ],
   "source": [
    "kospi_df.head()"
   ]
  },
  {
   "cell_type": "markdown",
   "metadata": {},
   "source": [
    "#### 매일 체크하여 해당 단어가 있으면 1, 없으면 0으로 인코딩한다."
   ]
  },
  {
   "cell_type": "code",
   "execution_count": 341,
   "metadata": {},
   "outputs": [],
   "source": [
    "final_dict = {date : [1 if i in kospi_df.iloc[idx].values else 0 for i in col_names] for idx, date in enumerate(kospi_df.index)}"
   ]
  },
  {
   "cell_type": "code",
   "execution_count": 369,
   "metadata": {},
   "outputs": [],
   "source": [
    "kospi_df = pd.DataFrame(final_dict)"
   ]
  },
  {
   "cell_type": "code",
   "execution_count": 370,
   "metadata": {},
   "outputs": [],
   "source": [
    "kospi_df = kospi_df.T "
   ]
  },
  {
   "cell_type": "code",
   "execution_count": 371,
   "metadata": {},
   "outputs": [],
   "source": [
    "kospi_df.columns = col_names"
   ]
  },
  {
   "cell_type": "code",
   "execution_count": 373,
   "metadata": {},
   "outputs": [],
   "source": [
    "kospi_df.drop(kospi_df.tail(1).index,inplace=True) \n",
    "# 다음날 예측을 위해 마지막 하루를 제외"
   ]
  },
  {
   "cell_type": "code",
   "execution_count": 374,
   "metadata": {},
   "outputs": [
    {
     "data": {
      "text/plain": [
       "(246, 24700)"
      ]
     },
     "execution_count": 374,
     "metadata": {},
     "output_type": "execute_result"
    }
   ],
   "source": [
    "kospi_df.shape"
   ]
  },
  {
   "cell_type": "code",
   "execution_count": 375,
   "metadata": {},
   "outputs": [],
   "source": [
    "kospi_df['target'] = target_list[1:] # 다음날 예측을 위해 지수 첫 날 하루를 제외"
   ]
  },
  {
   "cell_type": "code",
   "execution_count": 376,
   "metadata": {},
   "outputs": [],
   "source": [
    "kospi_df.to_csv('kospi(dummies).csv')"
   ]
  },
  {
   "cell_type": "markdown",
   "metadata": {},
   "source": [
    "#### 최종적으로 모든 전처리를 마친 데이터는 아래와 같다."
   ]
  },
  {
   "cell_type": "code",
   "execution_count": 377,
   "metadata": {},
   "outputs": [
    {
     "data": {
      "text/html": [
       "<div>\n",
       "<style scoped>\n",
       "    .dataframe tbody tr th:only-of-type {\n",
       "        vertical-align: middle;\n",
       "    }\n",
       "\n",
       "    .dataframe tbody tr th {\n",
       "        vertical-align: top;\n",
       "    }\n",
       "\n",
       "    .dataframe thead th {\n",
       "        text-align: right;\n",
       "    }\n",
       "</style>\n",
       "<table border=\"1\" class=\"dataframe\">\n",
       "  <thead>\n",
       "    <tr style=\"text-align: right;\">\n",
       "      <th></th>\n",
       "      <th>개발</th>\n",
       "      <th>거래량</th>\n",
       "      <th>경신</th>\n",
       "      <th>공공</th>\n",
       "      <th>금련</th>\n",
       "      <th>금리동결</th>\n",
       "      <th>금리인하</th>\n",
       "      <th>기업</th>\n",
       "      <th>뉴욕</th>\n",
       "      <th>뉴욕증시</th>\n",
       "      <th>...</th>\n",
       "      <th>투자</th>\n",
       "      <th>특징</th>\n",
       "      <th>판매경로</th>\n",
       "      <th>팔고</th>\n",
       "      <th>패러다임</th>\n",
       "      <th>해양</th>\n",
       "      <th>호실적</th>\n",
       "      <th>호텔</th>\n",
       "      <th>흐름</th>\n",
       "      <th>target</th>\n",
       "    </tr>\n",
       "  </thead>\n",
       "  <tbody>\n",
       "    <tr>\n",
       "      <th>20190502</th>\n",
       "      <td>1</td>\n",
       "      <td>1</td>\n",
       "      <td>1</td>\n",
       "      <td>1</td>\n",
       "      <td>1</td>\n",
       "      <td>1</td>\n",
       "      <td>1</td>\n",
       "      <td>1</td>\n",
       "      <td>1</td>\n",
       "      <td>1</td>\n",
       "      <td>...</td>\n",
       "      <td>1</td>\n",
       "      <td>1</td>\n",
       "      <td>0</td>\n",
       "      <td>0</td>\n",
       "      <td>0</td>\n",
       "      <td>0</td>\n",
       "      <td>0</td>\n",
       "      <td>1</td>\n",
       "      <td>0</td>\n",
       "      <td>1</td>\n",
       "    </tr>\n",
       "    <tr>\n",
       "      <th>20190503</th>\n",
       "      <td>1</td>\n",
       "      <td>1</td>\n",
       "      <td>1</td>\n",
       "      <td>0</td>\n",
       "      <td>0</td>\n",
       "      <td>0</td>\n",
       "      <td>0</td>\n",
       "      <td>1</td>\n",
       "      <td>0</td>\n",
       "      <td>1</td>\n",
       "      <td>...</td>\n",
       "      <td>1</td>\n",
       "      <td>1</td>\n",
       "      <td>0</td>\n",
       "      <td>0</td>\n",
       "      <td>0</td>\n",
       "      <td>0</td>\n",
       "      <td>1</td>\n",
       "      <td>1</td>\n",
       "      <td>0</td>\n",
       "      <td>1</td>\n",
       "    </tr>\n",
       "    <tr>\n",
       "      <th>20190507</th>\n",
       "      <td>0</td>\n",
       "      <td>0</td>\n",
       "      <td>1</td>\n",
       "      <td>0</td>\n",
       "      <td>0</td>\n",
       "      <td>0</td>\n",
       "      <td>0</td>\n",
       "      <td>0</td>\n",
       "      <td>1</td>\n",
       "      <td>0</td>\n",
       "      <td>...</td>\n",
       "      <td>1</td>\n",
       "      <td>1</td>\n",
       "      <td>0</td>\n",
       "      <td>0</td>\n",
       "      <td>0</td>\n",
       "      <td>0</td>\n",
       "      <td>0</td>\n",
       "      <td>0</td>\n",
       "      <td>0</td>\n",
       "      <td>0</td>\n",
       "    </tr>\n",
       "    <tr>\n",
       "      <th>20190508</th>\n",
       "      <td>0</td>\n",
       "      <td>0</td>\n",
       "      <td>0</td>\n",
       "      <td>0</td>\n",
       "      <td>0</td>\n",
       "      <td>0</td>\n",
       "      <td>0</td>\n",
       "      <td>0</td>\n",
       "      <td>1</td>\n",
       "      <td>0</td>\n",
       "      <td>...</td>\n",
       "      <td>1</td>\n",
       "      <td>1</td>\n",
       "      <td>0</td>\n",
       "      <td>0</td>\n",
       "      <td>0</td>\n",
       "      <td>0</td>\n",
       "      <td>0</td>\n",
       "      <td>0</td>\n",
       "      <td>0</td>\n",
       "      <td>1</td>\n",
       "    </tr>\n",
       "    <tr>\n",
       "      <th>20190509</th>\n",
       "      <td>0</td>\n",
       "      <td>1</td>\n",
       "      <td>0</td>\n",
       "      <td>0</td>\n",
       "      <td>0</td>\n",
       "      <td>0</td>\n",
       "      <td>0</td>\n",
       "      <td>1</td>\n",
       "      <td>0</td>\n",
       "      <td>0</td>\n",
       "      <td>...</td>\n",
       "      <td>1</td>\n",
       "      <td>1</td>\n",
       "      <td>0</td>\n",
       "      <td>0</td>\n",
       "      <td>0</td>\n",
       "      <td>0</td>\n",
       "      <td>1</td>\n",
       "      <td>0</td>\n",
       "      <td>0</td>\n",
       "      <td>1</td>\n",
       "    </tr>\n",
       "  </tbody>\n",
       "</table>\n",
       "<p>5 rows × 24701 columns</p>\n",
       "</div>"
      ],
      "text/plain": [
       "          개발  거래량  경신  공공  금련  금리동결  금리인하  기업  뉴욕  뉴욕증시  ...  투자  특징  판매경로  \\\n",
       "20190502   1    1   1   1   1     1     1   1   1     1  ...   1   1     0   \n",
       "20190503   1    1   1   0   0     0     0   1   0     1  ...   1   1     0   \n",
       "20190507   0    0   1   0   0     0     0   0   1     0  ...   1   1     0   \n",
       "20190508   0    0   0   0   0     0     0   0   1     0  ...   1   1     0   \n",
       "20190509   0    1   0   0   0     0     0   1   0     0  ...   1   1     0   \n",
       "\n",
       "          팔고  패러다임  해양  호실적  호텔  흐름  target  \n",
       "20190502   0     0   0    0   1   0       1  \n",
       "20190503   0     0   0    1   1   0       1  \n",
       "20190507   0     0   0    0   0   0       0  \n",
       "20190508   0     0   0    0   0   0       1  \n",
       "20190509   0     0   0    1   0   0       1  \n",
       "\n",
       "[5 rows x 24701 columns]"
      ]
     },
     "execution_count": 377,
     "metadata": {},
     "output_type": "execute_result"
    }
   ],
   "source": [
    "kospi_df.head()"
   ]
  },
  {
   "cell_type": "code",
   "execution_count": 378,
   "metadata": {},
   "outputs": [],
   "source": [
    "from sklearn.model_selection import StratifiedKFold\n",
    "from sklearn.model_selection import GridSearchCV\n",
    "from sklearn.ensemble import RandomForestClassifier\n",
    "from sklearn.ensemble import AdaBoostClassifier\n",
    "from sklearn.model_selection import train_test_split\n",
    "import numpy as np"
   ]
  },
  {
   "cell_type": "markdown",
   "metadata": {},
   "source": [
    "#### 재현성을 위해 시드를 고정하였고, Train, Test 데이터로 나눠준다."
   ]
  },
  {
   "cell_type": "code",
   "execution_count": 379,
   "metadata": {},
   "outputs": [],
   "source": [
    "RANDOM_STATE=11\n",
    "np.random.seed(RANDOM_STATE)"
   ]
  },
  {
   "cell_type": "code",
   "execution_count": 380,
   "metadata": {},
   "outputs": [],
   "source": [
    "X_train, X_test, y_train, y_test = train_test_split(kospi_df.drop(['target'],axis=1),kospi_df.target,random_state=RANDOM_STATE)"
   ]
  },
  {
   "cell_type": "markdown",
   "metadata": {},
   "source": [
    "#### Validation data와 Grid search를 사용하여 모델 optimization을 할 것이며, 첫 모델은 앙상블 모델인 Adaboost 를 사용해보았다."
   ]
  },
  {
   "cell_type": "code",
   "execution_count": 381,
   "metadata": {},
   "outputs": [],
   "source": [
    "kf = StratifiedKFold(n_splits=10)"
   ]
  },
  {
   "cell_type": "code",
   "execution_count": 384,
   "metadata": {},
   "outputs": [],
   "source": [
    "params={'n_estimators': [50,100,150], 'learning_rate':[0.01,0.1]}"
   ]
  },
  {
   "cell_type": "code",
   "execution_count": 385,
   "metadata": {},
   "outputs": [
    {
     "name": "stderr",
     "output_type": "stream",
     "text": [
      "C:\\Users\\taejin\\Anaconda3\\lib\\site-packages\\sklearn\\model_selection\\_search.py:841: DeprecationWarning: The default of the `iid` parameter will change from True to False in version 0.22 and will be removed in 0.24. This will change numeric results when test-set sizes are unequal.\n",
      "  DeprecationWarning)\n"
     ]
    }
   ],
   "source": [
    "abc=GridSearchCV(AdaBoostClassifier(), params, cv=kf)\n",
    "abc.fit(X_train,y_train)\n",
    "pred=abc.predict(X_test)"
   ]
  },
  {
   "cell_type": "markdown",
   "metadata": {},
   "source": [
    "#### 아래와 같은 하이퍼파라미터에서 가장 좋은 성능을 나타냈고 55%정도의 정확도를 가졌다. "
   ]
  },
  {
   "cell_type": "code",
   "execution_count": 387,
   "metadata": {},
   "outputs": [
    {
     "data": {
      "text/plain": [
       "{'learning_rate': 0.01, 'n_estimators': 100}"
      ]
     },
     "execution_count": 387,
     "metadata": {},
     "output_type": "execute_result"
    }
   ],
   "source": [
    "abc.best_params_"
   ]
  },
  {
   "cell_type": "code",
   "execution_count": 386,
   "metadata": {},
   "outputs": [
    {
     "data": {
      "text/plain": [
       "0.5483870967741935"
      ]
     },
     "execution_count": 386,
     "metadata": {},
     "output_type": "execute_result"
    }
   ],
   "source": [
    "abc.score(X_test, y_test)"
   ]
  },
  {
   "cell_type": "markdown",
   "metadata": {},
   "source": [
    "#### 다음은 역시 앙상블 모델 중 하나인 RandomForest 모델을 사용하여 다음 날 주가 예측을 진행해보았다."
   ]
  },
  {
   "cell_type": "code",
   "execution_count": 391,
   "metadata": {},
   "outputs": [],
   "source": [
    "params={'max_depth': [5,7,10,15,None], 'n_estimators': [50,100,150]}"
   ]
  },
  {
   "cell_type": "code",
   "execution_count": 392,
   "metadata": {},
   "outputs": [
    {
     "name": "stderr",
     "output_type": "stream",
     "text": [
      "C:\\Users\\taejin\\Anaconda3\\lib\\site-packages\\sklearn\\model_selection\\_search.py:841: DeprecationWarning: The default of the `iid` parameter will change from True to False in version 0.22 and will be removed in 0.24. This will change numeric results when test-set sizes are unequal.\n",
      "  DeprecationWarning)\n"
     ]
    }
   ],
   "source": [
    "rfc=GridSearchCV(RandomForestClassifier(), params, cv=kf)\n",
    "rfc.fit(X_train,y_train)\n",
    "pred=rfc.predict(X_test)"
   ]
  },
  {
   "cell_type": "markdown",
   "metadata": {},
   "source": [
    "#### 아래 하이퍼파라미터에서 성능이 가장 뛰어났으며 Adaboost 보다 높은 56.5%의 성능을 기록하였다."
   ]
  },
  {
   "cell_type": "code",
   "execution_count": 388,
   "metadata": {},
   "outputs": [
    {
     "data": {
      "text/plain": [
       "{'max_depth': 10, 'n_estimators': 50}"
      ]
     },
     "execution_count": 388,
     "metadata": {},
     "output_type": "execute_result"
    }
   ],
   "source": [
    "rfc.best_params_"
   ]
  },
  {
   "cell_type": "code",
   "execution_count": 389,
   "metadata": {},
   "outputs": [
    {
     "data": {
      "text/plain": [
       "0.5645161290322581"
      ]
     },
     "execution_count": 389,
     "metadata": {},
     "output_type": "execute_result"
    }
   ],
   "source": [
    "rfc.score(X_test,y_test)"
   ]
  },
  {
   "cell_type": "markdown",
   "metadata": {},
   "source": [
    "### Review \n",
    " 간단 스크래핑을 통한 주가 예측이였지만 하루 단위를 56.5% 정도로 예측할 수 있었다. 주말이나 긴 연휴 등 이틀 이상의 긴 폐장일을 제외하면 성능은 60% 더 이상도 쉽게 올라갈 수 있을 것으로 보인다. 이는 즉 간단한 스크래핑을 통해 만든 이 모델으로도 지수에 투자한다면 쉽게 반 이상의 확률로 성공할 수 있다는 것을 의미하며 좋은 하드웨어 환경에서 더 많은 데이터나 단어를 사용한다면 연구할만한 가치가 있을 것으로 예상된다. "
   ]
  },
  {
   "cell_type": "code",
   "execution_count": null,
   "metadata": {},
   "outputs": [],
   "source": []
  }
 ],
 "metadata": {
  "anaconda-cloud": {},
  "kernelspec": {
   "display_name": "Python 3",
   "language": "python",
   "name": "python3"
  },
  "language_info": {
   "codemirror_mode": {
    "name": "ipython",
    "version": 3
   },
   "file_extension": ".py",
   "mimetype": "text/x-python",
   "name": "python",
   "nbconvert_exporter": "python",
   "pygments_lexer": "ipython3",
   "version": "3.7.3"
  }
 },
 "nbformat": 4,
 "nbformat_minor": 2
}
